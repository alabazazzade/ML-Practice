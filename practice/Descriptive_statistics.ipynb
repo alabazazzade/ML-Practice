{
 "cells": [
  {
   "cell_type": "code",
   "execution_count": null,
   "metadata": {},
   "outputs": [],
   "source": [
    "# Find Mode and Median\n",
    "# College students were surveyed about where they would most like to spend their spring break: Daytona Beach (DB), Cancun, Mexico (C), South Padre Island (SP), Lake Havasu (LH), or other (O)."
   ]
  },
  {
   "cell_type": "code",
   "execution_count": 57,
   "metadata": {},
   "outputs": [
    {
     "name": "stdout",
     "output_type": "stream",
     "text": [
      "DB: 8\n",
      "C: 4\n",
      "LH: 3\n",
      "SP: 2\n",
      "O: 3\n"
     ]
    }
   ],
   "source": [
    "import numpy as np\n",
    "results = ['DB', 'DB', 'C', 'LH', 'DB', 'C', 'SP', 'LH', 'DB', 'O', 'O', 'SP', 'C', 'DB', 'LH', 'DB', 'C', 'DB', 'O', 'DB']\n",
    "j = 0\n",
    "ans = []\n",
    "\n",
    "for i in results:    \n",
    "    if i not in ans:\n",
    "        ans.append(i)        \n",
    "\n",
    "for i in ans: \n",
    "    print(f'{i}: {results.count(i)}')\n"
   ]
  },
  {
   "cell_type": "code",
   "execution_count": 58,
   "metadata": {},
   "outputs": [
    {
     "name": "stdout",
     "output_type": "stream",
     "text": [
      "Mode : DB\n"
     ]
    }
   ],
   "source": [
    "print(f'Mode : DB')\n"
   ]
  },
  {
   "cell_type": "code",
   "execution_count": 59,
   "metadata": {},
   "outputs": [],
   "source": [
    "# Indicate whether the following skewed distributions are positively skewed because the mean exceeds the median or negatively skewed because the median exceeds the mean.\n",
    "\n",
    "# A distribution of test scores on an easy test, with most students scoring high and a few students scoring low\n",
    "## negavively skewed \n",
    "# A distribution of ages of college students, with most students in their late teens or early twenties and a few students in their fifties or sixties\n",
    "## positively skewed\n",
    "# A distribution of loose change carried by classmates, with most carrying less than $1 and with some carrying $3 or $4 worth of loose change\n",
    "## positively skewed\n",
    "# A distribution of the sizes of crowds in attendance at a popular movie theatre, with most audiences at or near capacity\n",
    "## negavively skewed "
   ]
  },
  {
   "cell_type": "code",
   "execution_count": 60,
   "metadata": {},
   "outputs": [],
   "source": [
    "# Distribution Shape\n",
    "# Describe the probable shape—normal, bimodal, positively skewed, or negatively skewed—for each of the following distributions:\n",
    "\n",
    "# Female beauty contestants’ scores on a masculinity test, with a higher score indicating a greater degree of masculinity\n",
    "## positively skewed\n",
    "# Scores on a standardized IQ test for a group of people selected from the general population\n",
    "## Normal destribution\n",
    "# Test scores for a group of high school students on a very difficult college-level math exam\n",
    "## positively skewed\n",
    "# Reading achievement scores for a third-grade class consisting of about equal numbers of regular students and learning-challenged students\n",
    "## positively skewed\n",
    "# Scores of students at the Eastman School of Music on a test of music aptitude (designed for use with the general population)\n",
    "## negatively skewed"
   ]
  },
  {
   "cell_type": "code",
   "execution_count": 61,
   "metadata": {},
   "outputs": [
    {
     "data": {
      "text/plain": [
       "array([172.38303243, 169.5468465 , 178.04464915, ..., 174.30616095,\n",
       "       169.08084067, 173.5150642 ])"
      ]
     },
     "execution_count": 61,
     "metadata": {},
     "output_type": "execute_result"
    }
   ],
   "source": [
    "# Sample mean, variance and standard deviation\n",
    "# Assume the data stored in variable heights represents the height of a city with a population of one million people.\n",
    "# As a sample, we'd like to take the first thousand people in this array. Please find the sample's mean, variance, and standard deviation.\n",
    "import numpy as np\n",
    "\n",
    "rng = np.random.default_rng(seed=0)\n",
    "mu,sigma,n = 171, 11, 1000000\n",
    "heights = rng.normal(mu,sigma,n)\n",
    "heights"
   ]
  },
  {
   "cell_type": "code",
   "execution_count": 69,
   "metadata": {},
   "outputs": [
    {
     "name": "stdout",
     "output_type": "stream",
     "text": [
      "170.47168895560714\n"
     ]
    }
   ],
   "source": [
    "heights_sample = heights[:1000]\n",
    "mean_ = heights_sample.mean()\n",
    "print(mean_)"
   ]
  },
  {
   "cell_type": "code",
   "execution_count": 74,
   "metadata": {},
   "outputs": [
    {
     "name": "stdout",
     "output_type": "stream",
     "text": [
      "115.7304477301104\n"
     ]
    },
    {
     "data": {
      "text/plain": [
       "115.55516344972875"
      ]
     },
     "execution_count": 74,
     "metadata": {},
     "output_type": "execute_result"
    }
   ],
   "source": [
    "variance_ = sum((heights_sample - heights.mean()) ** 2) / len(heights_sample)\n",
    "print(variance_)\n",
    "# or\n",
    "heights_sample.var(ddof=1)"
   ]
  },
  {
   "cell_type": "code",
   "execution_count": 75,
   "metadata": {},
   "outputs": [
    {
     "name": "stdout",
     "output_type": "stream",
     "text": [
      "10.757808686257178\n"
     ]
    },
    {
     "data": {
      "text/plain": [
       "10.749658759687618"
      ]
     },
     "execution_count": 75,
     "metadata": {},
     "output_type": "execute_result"
    }
   ],
   "source": [
    "std_variance_ = variance_ ** 0.5\n",
    "print(std_variance_)\n",
    "# or \n",
    "heights_sample.std(ddof=1)\n"
   ]
  },
  {
   "cell_type": "code",
   "execution_count": 76,
   "metadata": {},
   "outputs": [],
   "source": [
    "# Standard Deviation sign\n",
    "# Why is it impossible for the standard deviation value to ever be negative?\n",
    "## mathemetically speaking, the sumation in the top of the equation is always positive(when squared) and len is also always positive\n",
    "## naturally, the result will always be positive"
   ]
  },
  {
   "cell_type": "code",
   "execution_count": 77,
   "metadata": {},
   "outputs": [],
   "source": [
    "# Degrees of freedom\n",
    "# Determine whether the following statements about degrees of freedom are true or false:\n",
    "\n",
    "# The number of values in the population that are free to vary is referred to as the degree of freedom.\n",
    "## F\n",
    "# The poor quality of one or more observations is reflected in the degrees of freedom.\n",
    "## F\n",
    "# Degrees of freedom are only useful if we want to estimate some unknown population characteristic.\n",
    "## T\n",
    "# One degree of freedom is lost because the final deviation in the sample fails to provide information about population variability when expressed as a deviation from the sample mean.\n",
    "## T"
   ]
  },
  {
   "cell_type": "code",
   "execution_count": null,
   "metadata": {},
   "outputs": [],
   "source": []
  }
 ],
 "metadata": {
  "kernelspec": {
   "display_name": "Python 3.8.10 64-bit",
   "language": "python",
   "name": "python3"
  },
  "language_info": {
   "codemirror_mode": {
    "name": "ipython",
    "version": 3
   },
   "file_extension": ".py",
   "mimetype": "text/x-python",
   "name": "python",
   "nbconvert_exporter": "python",
   "pygments_lexer": "ipython3",
   "version": "3.8.10"
  },
  "orig_nbformat": 4,
  "vscode": {
   "interpreter": {
    "hash": "916dbcbb3f70747c44a77c7bcd40155683ae19c65e1c03b4aa3499c5328201f1"
   }
  }
 },
 "nbformat": 4,
 "nbformat_minor": 2
}
