{
 "cells": [
  {
   "cell_type": "code",
   "execution_count": 14,
   "metadata": {},
   "outputs": [],
   "source": [
    "# Empty and Full Numpy Array\n",
    "\n",
    "import numpy as np\n",
    "A = 55 * np.ones((3,4)) # Create a 3x4 full numpy array where every element is equal to 55.\n",
    "A_ = np.full((3,4), fill_value=55)\n",
    "B = np.empty((3,4)) # Create a 3x4 empty numpy array"
   ]
  },
  {
   "cell_type": "code",
   "execution_count": 20,
   "metadata": {},
   "outputs": [
    {
     "data": {
      "text/plain": [
       "numpy.ndarray"
      ]
     },
     "execution_count": 20,
     "metadata": {},
     "output_type": "execute_result"
    }
   ],
   "source": [
    "# Convert Python Sequences to 1D ndarray\n",
    "type(np.array([1,2,3]))"
   ]
  },
  {
   "cell_type": "code",
   "execution_count": 25,
   "metadata": {},
   "outputs": [
    {
     "data": {
      "text/plain": [
       "2"
      ]
     },
     "execution_count": 25,
     "metadata": {},
     "output_type": "execute_result"
    }
   ],
   "source": [
    "# Convert Python Sequences to 2D ndarray\n",
    "np.array([[1,2,3],[4,5,6]]).ndim"
   ]
  },
  {
   "cell_type": "code",
   "execution_count": 35,
   "metadata": {},
   "outputs": [
    {
     "data": {
      "text/plain": [
       "array([[  1,   2,   3],\n",
       "       [  1, 127,   3]], dtype=int8)"
      ]
     },
     "execution_count": 35,
     "metadata": {},
     "output_type": "execute_result"
    }
   ],
   "source": [
    "# One-byte ndarray elements\n",
    "# Create a 2-dimensional array of size 3x3 named x, composed of 1-byte integer elements.\n",
    "x = np.array([[1,2,3],[1,127,3]], dtype='i1')\n",
    "x"
   ]
  },
  {
   "cell_type": "code",
   "execution_count": 31,
   "metadata": {},
   "outputs": [
    {
     "name": "stdout",
     "output_type": "stream",
     "text": [
      " int8()\n",
      "\n",
      "Signed integer type, compatible with C ``char``.\n",
      "Character code: ``'b'``.\n",
      "Canonical name: ``np.byte``.\n",
      "Alias *on this platform*: ``np.int8``: 8-bit signed integer (-128 to 127).\n",
      "\n",
      "\n",
      "Methods:\n",
      "\n",
      "  all  --  Not implemented (virtual attribute)\n",
      "  any  --  Not implemented (virtual attribute)\n",
      "  argmax  --  Not implemented (virtual attribute)\n",
      "  argmin  --  Not implemented (virtual attribute)\n",
      "  argsort  --  Not implemented (virtual attribute)\n",
      "  astype  --  Not implemented (virtual attribute)\n",
      "  byteswap  --  Not implemented (virtual attribute)\n",
      "  choose  --  Not implemented (virtual attribute)\n",
      "  clip  --  Not implemented (virtual attribute)\n",
      "  compress  --  Not implemented (virtual attribute)\n",
      "  conj  --  None\n",
      "  conjugate  --  Not implemented (virtual attribute)\n",
      "  copy  --  Not implemented (virtual attribute)\n",
      "  cumprod  --  Not implemented (virtual attribute)\n",
      "  cumsum  --  Not implemented (virtual attribute)\n",
      "  diagonal  --  Not implemented (virtual attribute)\n",
      "  dump  --  Not implemented (virtual attribute)\n",
      "  dumps  --  Not implemented (virtual attribute)\n",
      "  fill  --  Not implemented (virtual attribute)\n",
      "  flatten  --  Not implemented (virtual attribute)\n",
      "  getfield  --  Not implemented (virtual attribute)\n",
      "  item  --  Not implemented (virtual attribute)\n",
      "  itemset  --  Not implemented (virtual attribute)\n",
      "  max  --  Not implemented (virtual attribute)\n",
      "  mean  --  Not implemented (virtual attribute)\n",
      "  min  --  Not implemented (virtual attribute)\n",
      "  newbyteorder  --  newbyteorder(new_order='S')\n",
      "  nonzero  --  Not implemented (virtual attribute)\n",
      "  prod  --  Not implemented (virtual attribute)\n",
      "  ptp  --  Not implemented (virtual attribute)\n",
      "  put  --  Not implemented (virtual attribute)\n",
      "  ravel  --  Not implemented (virtual attribute)\n",
      "  repeat  --  Not implemented (virtual attribute)\n",
      "  reshape  --  Not implemented (virtual attribute)\n",
      "  resize  --  Not implemented (virtual attribute)\n",
      "  round  --  Not implemented (virtual attribute)\n",
      "  searchsorted  --  Not implemented (virtual attribute)\n",
      "  setfield  --  Not implemented (virtual attribute)\n",
      "  setflags  --  Not implemented (virtual attribute)\n",
      "  sort  --  Not implemented (virtual attribute)\n",
      "  squeeze  --  Not implemented (virtual attribute)\n",
      "  std  --  Not implemented (virtual attribute)\n",
      "  sum  --  Not implemented (virtual attribute)\n",
      "  swapaxes  --  Not implemented (virtual attribute)\n",
      "  take  --  Not implemented (virtual attribute)\n",
      "  tobytes  --  None\n",
      "  tofile  --  Not implemented (virtual attribute)\n",
      "  tolist  --  Not implemented (virtual attribute)\n",
      "  tostring  --  Not implemented (virtual attribute)\n",
      "  trace  --  Not implemented (virtual attribute)\n",
      "  transpose  --  Not implemented (virtual attribute)\n",
      "  var  --  Not implemented (virtual attribute)\n",
      "  view  --  Not implemented (virtual attribute)\n"
     ]
    },
    {
     "data": {
      "text/plain": [
       "iinfo(min=-128, max=127, dtype=int8)"
      ]
     },
     "execution_count": 31,
     "metadata": {},
     "output_type": "execute_result"
    }
   ],
   "source": [
    "np.info(np.int8)\n",
    "np.iinfo(np.int8)\n"
   ]
  },
  {
   "cell_type": "code",
   "execution_count": 40,
   "metadata": {},
   "outputs": [],
   "source": [
    "# Evenly Spaced Values Numpy Array\n",
    "# Create an array containing the numbers 0 to 999 and store it in variable a1 .\n",
    "a1 = np.array(range(1000))\n",
    "a1_ = np.arange(1000)"
   ]
  },
  {
   "cell_type": "code",
   "execution_count": 46,
   "metadata": {},
   "outputs": [],
   "source": [
    "# End of the interval in ndarray in a range of numbers\n",
    "# Create an array of dtype float containing the numbers -3 to 3 and store it in variable a2 .\n",
    "# (The number 3 itself is not in the array)\n",
    "a2 = np.array(range(7), dtype='float') - 3\n",
    "a2_ = np.arange(-3,3,dtype=float)"
   ]
  },
  {
   "cell_type": "code",
   "execution_count": 50,
   "metadata": {},
   "outputs": [
    {
     "data": {
      "text/plain": [
       "array([-2.00000000e+00, -1.90000000e+00, -1.80000000e+00, -1.70000000e+00,\n",
       "       -1.60000000e+00, -1.50000000e+00, -1.40000000e+00, -1.30000000e+00,\n",
       "       -1.20000000e+00, -1.10000000e+00, -1.00000000e+00, -9.00000000e-01,\n",
       "       -8.00000000e-01, -7.00000000e-01, -6.00000000e-01, -5.00000000e-01,\n",
       "       -4.00000000e-01, -3.00000000e-01, -2.00000000e-01, -1.00000000e-01,\n",
       "        1.77635684e-15,  1.00000000e-01,  2.00000000e-01,  3.00000000e-01,\n",
       "        4.00000000e-01,  5.00000000e-01,  6.00000000e-01,  7.00000000e-01,\n",
       "        8.00000000e-01,  9.00000000e-01,  1.00000000e+00,  1.10000000e+00,\n",
       "        1.20000000e+00,  1.30000000e+00,  1.40000000e+00,  1.50000000e+00,\n",
       "        1.60000000e+00,  1.70000000e+00,  1.80000000e+00,  1.90000000e+00,\n",
       "        2.00000000e+00,  2.10000000e+00,  2.20000000e+00,  2.30000000e+00,\n",
       "        2.40000000e+00,  2.50000000e+00,  2.60000000e+00,  2.70000000e+00,\n",
       "        2.80000000e+00,  2.90000000e+00,  3.00000000e+00,  3.10000000e+00,\n",
       "        3.20000000e+00,  3.30000000e+00,  3.40000000e+00,  3.50000000e+00,\n",
       "        3.60000000e+00,  3.70000000e+00,  3.80000000e+00,  3.90000000e+00,\n",
       "        4.00000000e+00,  4.10000000e+00,  4.20000000e+00,  4.30000000e+00,\n",
       "        4.40000000e+00,  4.50000000e+00,  4.60000000e+00,  4.70000000e+00,\n",
       "        4.80000000e+00,  4.90000000e+00,  5.00000000e+00,  5.10000000e+00,\n",
       "        5.20000000e+00,  5.30000000e+00,  5.40000000e+00,  5.50000000e+00,\n",
       "        5.60000000e+00,  5.70000000e+00,  5.80000000e+00,  5.90000000e+00,\n",
       "        6.00000000e+00,  6.10000000e+00,  6.20000000e+00,  6.30000000e+00,\n",
       "        6.40000000e+00,  6.50000000e+00,  6.60000000e+00,  6.70000000e+00,\n",
       "        6.80000000e+00,  6.90000000e+00,  7.00000000e+00,  7.10000000e+00,\n",
       "        7.20000000e+00,  7.30000000e+00,  7.40000000e+00,  7.50000000e+00,\n",
       "        7.60000000e+00,  7.70000000e+00,  7.80000000e+00,  7.90000000e+00,\n",
       "        8.00000000e+00,  8.10000000e+00,  8.20000000e+00,  8.30000000e+00,\n",
       "        8.40000000e+00,  8.50000000e+00,  8.60000000e+00,  8.70000000e+00,\n",
       "        8.80000000e+00,  8.90000000e+00,  9.00000000e+00,  9.10000000e+00,\n",
       "        9.20000000e+00,  9.30000000e+00,  9.40000000e+00,  9.50000000e+00,\n",
       "        9.60000000e+00,  9.70000000e+00,  9.80000000e+00,  9.90000000e+00])"
      ]
     },
     "execution_count": 50,
     "metadata": {},
     "output_type": "execute_result"
    }
   ],
   "source": [
    "# Ants move in the numpy array\n",
    "# Create an array that starts at 2 and goes up to 10 in steps of 0.1 and store it in variable a3\n",
    "# (The number 10 itself is not in the array)\n",
    "a3 = np.arange(-2,10,0.1) # third one is step\n",
    "a3"
   ]
  },
  {
   "cell_type": "code",
   "execution_count": 52,
   "metadata": {},
   "outputs": [
    {
     "data": {
      "text/plain": [
       "array([-5.00000000e-01, -4.00000000e-01, -3.00000000e-01, -2.00000000e-01,\n",
       "       -1.00000000e-01, -1.11022302e-16,  1.00000000e-01])"
      ]
     },
     "execution_count": 52,
     "metadata": {},
     "output_type": "execute_result"
    }
   ],
   "source": [
    "# Precision loss is closer to us than you think.\n",
    "# Create an array that starts at -0.5 and goes up to 0.2 in steps of 0.1 and store it in variable a4.\n",
    "# (The number 0.2 itself is not in the array)\n",
    "a4 = np.arange(-0.5, 0.2, 0.1)\n",
    "a4"
   ]
  },
  {
   "cell_type": "code",
   "execution_count": 55,
   "metadata": {},
   "outputs": [],
   "source": [
    "# Uniformly Spaced Numbers\n",
    "# Create an array containing 7 elements between the numbers 1 to 121 \n",
    "# in such a way that the numbers 1 and 121 are part of this array and\n",
    "# the distance between the numbers should be equal. store the array in a5 variable\n",
    "a5 = np.linspace(1,121,7)"
   ]
  },
  {
   "cell_type": "code",
   "execution_count": 56,
   "metadata": {},
   "outputs": [
    {
     "data": {
      "text/plain": [
       "array([  1.,  21.,  41.,  61.,  81., 101., 121.])"
      ]
     },
     "execution_count": 56,
     "metadata": {},
     "output_type": "execute_result"
    }
   ],
   "source": [
    "a5"
   ]
  },
  {
   "cell_type": "code",
   "execution_count": 57,
   "metadata": {},
   "outputs": [],
   "source": [
    "# End Inclusive Array\n",
    "# Create an array containing 16 elements between the numbers -3 to 3 \n",
    "# in such a way that the numbers -3 and 3 are part of this array \n",
    "# and the distance between the numbers should be equal. store the array in a6 variable\n",
    "a6 = np.linspace(-3,3,16)"
   ]
  },
  {
   "cell_type": "code",
   "execution_count": 58,
   "metadata": {},
   "outputs": [
    {
     "data": {
      "text/plain": [
       "array([-3. , -2.6, -2.2, -1.8, -1.4, -1. , -0.6, -0.2,  0.2,  0.6,  1. ,\n",
       "        1.4,  1.8,  2.2,  2.6,  3. ])"
      ]
     },
     "execution_count": 58,
     "metadata": {},
     "output_type": "execute_result"
    }
   ],
   "source": [
    "a6"
   ]
  },
  {
   "cell_type": "code",
   "execution_count": 65,
   "metadata": {},
   "outputs": [],
   "source": [
    "# Diagonal 2-D array\n",
    "# Create an 4×4 array that its main diameter is equal to 1 and other elements are equal to zero \n",
    "# and store this variable in a7 variable\n",
    "a7 = np.eye(4,4)"
   ]
  },
  {
   "cell_type": "code",
   "execution_count": 62,
   "metadata": {},
   "outputs": [
    {
     "data": {
      "text/plain": [
       "array([[1., 0., 0., 0.],\n",
       "       [0., 1., 0., 0.],\n",
       "       [0., 0., 1., 0.],\n",
       "       [0., 0., 0., 1.]])"
      ]
     },
     "execution_count": 62,
     "metadata": {},
     "output_type": "execute_result"
    }
   ],
   "source": [
    "a7"
   ]
  },
  {
   "cell_type": "code",
   "execution_count": 70,
   "metadata": {},
   "outputs": [
    {
     "data": {
      "text/plain": [
       "array([[0., 0., 1., 0., 0.],\n",
       "       [0., 0., 0., 1., 0.],\n",
       "       [0., 0., 0., 0., 1.],\n",
       "       [0., 0., 0., 0., 0.],\n",
       "       [0., 0., 0., 0., 0.]])"
      ]
     },
     "execution_count": 70,
     "metadata": {},
     "output_type": "execute_result"
    }
   ],
   "source": [
    "# Upper Diagonal Matrix\n",
    "# Create an 5×5 array that its second diameter above the main diameter \n",
    "# is equal to 1 and other elements are equal to zero and store this variable in a8 variable\n",
    "a8 = np.eye(5,5,2)\n",
    "a8"
   ]
  },
  {
   "cell_type": "code",
   "execution_count": 74,
   "metadata": {},
   "outputs": [
    {
     "data": {
      "text/plain": [
       "array([[  1.,   0.,   0.,   0.,   0.,   0.,   0.],\n",
       "       [  0.,  21.,   0.,   0.,   0.,   0.,   0.],\n",
       "       [  0.,   0.,  41.,   0.,   0.,   0.,   0.],\n",
       "       [  0.,   0.,   0.,  61.,   0.,   0.,   0.],\n",
       "       [  0.,   0.,   0.,   0.,  81.,   0.,   0.],\n",
       "       [  0.,   0.,   0.,   0.,   0., 101.,   0.],\n",
       "       [  0.,   0.,   0.,   0.,   0.,   0., 121.]])"
      ]
     },
     "execution_count": 74,
     "metadata": {},
     "output_type": "execute_result"
    }
   ],
   "source": [
    "# Diagonal 2D Array\n",
    "# Create a 7×7 array that it's main diameter contains the numbers \n",
    "# from 1 to 121 with equal distance and other elements are equal to zero \n",
    "# then store it in the a9 variable.\n",
    "a9 = np.diag(np.linspace(1,121,7))\n",
    "a9"
   ]
  },
  {
   "cell_type": "code",
   "execution_count": 96,
   "metadata": {},
   "outputs": [],
   "source": [
    "# Diagonal Array Indexing\n",
    "# A 5×5 array is stored in a variable named z, store the value of the \n",
    "# second diameter lower than the main diameter in a variable called a10\n",
    "\n",
    "z = np.arange(25).reshape(5,5)\n",
    "mask = np.eye(5,5,-2,dtype=bool)\n",
    "a10 = z[mask]\n",
    "a10_ = np.diag(z, -2)"
   ]
  },
  {
   "cell_type": "code",
   "execution_count": 100,
   "metadata": {},
   "outputs": [
    {
     "data": {
      "text/plain": [
       "array([[0., 0., 0., 0.],\n",
       "       [0., 0., 0., 0.],\n",
       "       [0., 0., 0., 0.],\n",
       "       [0., 0., 0., 0.],\n",
       "       [0., 0., 0., 0.],\n",
       "       [0., 0., 0., 0.]])"
      ]
     },
     "execution_count": 100,
     "metadata": {},
     "output_type": "execute_result"
    }
   ],
   "source": [
    "# Fill your array with zeros\n",
    "# Create a 6x4 array with all zero elements and store it in variable a11\n",
    "a11 = np.zeros((6,4))\n",
    "a11"
   ]
  },
  {
   "cell_type": "code",
   "execution_count": 102,
   "metadata": {},
   "outputs": [
    {
     "data": {
      "text/plain": [
       "array([[1., 1., 1., 1.],\n",
       "       [1., 1., 1., 1.],\n",
       "       [1., 1., 1., 1.],\n",
       "       [1., 1., 1., 1.],\n",
       "       [1., 1., 1., 1.],\n",
       "       [1., 1., 1., 1.]])"
      ]
     },
     "execution_count": 102,
     "metadata": {},
     "output_type": "execute_result"
    }
   ],
   "source": [
    "# Fill your array with ones\n",
    "# Create a 6x4 array with all one elements and store it in variable a12\n",
    "a12 = np.ones((6,4))\n",
    "a12"
   ]
  },
  {
   "cell_type": "code",
   "execution_count": 108,
   "metadata": {},
   "outputs": [
    {
     "data": {
      "text/plain": [
       "array([[0.58340769, 0.0441891 , 0.22117999, 0.41045977],\n",
       "       [0.62088725, 0.6858718 , 0.1507721 , 0.03418021],\n",
       "       [0.13391878, 0.01739325, 0.4889931 , 0.45428922],\n",
       "       [0.51979699, 0.24374395, 0.2414989 , 0.35415175],\n",
       "       [0.19634476, 0.83225038, 0.64485177, 0.8162738 ],\n",
       "       [0.1255898 , 0.44740372, 0.4657158 , 0.32001295]])"
      ]
     },
     "execution_count": 108,
     "metadata": {},
     "output_type": "execute_result"
    }
   ],
   "source": [
    "# Random Array\n",
    "# Create a 6x4 array with all random elements and store it in variable a13 .\n",
    "a13 = np.random.random((6,4))\n",
    "a13"
   ]
  },
  {
   "cell_type": "code",
   "execution_count": 125,
   "metadata": {},
   "outputs": [
    {
     "data": {
      "text/plain": [
       "array([[0.58340769, 0.0441891 , 0.22117999, 0.41045977],\n",
       "       [0.62088725, 0.6858718 , 0.1507721 , 0.03418021],\n",
       "       [0.13391878, 0.01739325, 0.4889931 , 0.45428922],\n",
       "       [0.51979699, 0.24374395, 0.2414989 , 0.35415175],\n",
       "       [0.19634476, 0.83225038, 0.64485177, 0.8162738 ],\n",
       "       [0.1255898 , 0.44740372, 0.4657158 , 0.32001295]])"
      ]
     },
     "execution_count": 125,
     "metadata": {},
     "output_type": "execute_result"
    }
   ],
   "source": [
    "# New array without initializing entries\n",
    "# Create a 6x4 array with empty elements and store it in variable a14 .\n",
    "a14 = np.empty(shape=(6,4))\n",
    "a14"
   ]
  },
  {
   "cell_type": "code",
   "execution_count": 132,
   "metadata": {},
   "outputs": [
    {
     "data": {
      "text/plain": [
       "array([['Pytopia', 'Pytopia', 'Pytopia'],\n",
       "       ['Pytopia', 'Pytopia', 'Pytopia'],\n",
       "       ['Pytopia', 'Pytopia', 'Pytopia'],\n",
       "       ['Pytopia', 'Pytopia', 'Pytopia'],\n",
       "       ['Pytopia', 'Pytopia', 'Pytopia'],\n",
       "       ['Pytopia', 'Pytopia', 'Pytopia'],\n",
       "       ['Pytopia', 'Pytopia', 'Pytopia'],\n",
       "       ['Pytopia', 'Pytopia', 'Pytopia']], dtype='<U7')"
      ]
     },
     "execution_count": 132,
     "metadata": {},
     "output_type": "execute_result"
    }
   ],
   "source": [
    "# Array filled with value\n",
    "# Create a 8x3 array with all its elements equal to the \"Pytopia\"  and then store it in the a15  variable.\n",
    "a15 = np.full((8,3), fill_value='Pytopia')\n",
    "a15"
   ]
  },
  {
   "cell_type": "code",
   "execution_count": 134,
   "metadata": {},
   "outputs": [
    {
     "data": {
      "text/plain": [
       "array([[-inf,  nan,  inf],\n",
       "       [-inf,  nan,  inf],\n",
       "       [-inf,  nan,  inf],\n",
       "       [-inf,  nan,  inf],\n",
       "       [-inf,  nan,  inf],\n",
       "       [-inf,  nan,  inf]])"
      ]
     },
     "execution_count": 134,
     "metadata": {},
     "output_type": "execute_result"
    }
   ],
   "source": [
    "# An array with repeating rows\n",
    "# Using numpy with one line of code, create an array similar to the one below\n",
    "#  and store it in the a16  variable.\n",
    "a16 = np.full((6,3),[-np.inf,np.nan,np.inf])\n",
    "a16"
   ]
  },
  {
   "cell_type": "code",
   "execution_count": 135,
   "metadata": {},
   "outputs": [
    {
     "data": {
      "text/plain": [
       "numpy.ndarray"
      ]
     },
     "execution_count": 135,
     "metadata": {},
     "output_type": "execute_result"
    }
   ],
   "source": [
    "# numpy.ndarray object\n",
    "# Store the type of object a in variable a_type\n",
    "a = np.array([1, 2, 3])\n",
    "a_type = type(a)\n",
    "a_type"
   ]
  },
  {
   "cell_type": "code",
   "execution_count": 139,
   "metadata": {},
   "outputs": [],
   "source": [
    "# Array scalar types\n",
    "# Store the type of object a[0] in variable a0_type\n",
    "\n",
    "a = np.array([1, 2, 3])\n",
    "a[0]\n",
    "a0_type = type(a[0])"
   ]
  },
  {
   "cell_type": "code",
   "execution_count": 142,
   "metadata": {},
   "outputs": [],
   "source": [
    "# Data-type object\n",
    "# Store the data type of object a in variable a_data_type\n",
    "\n",
    "a = np.array([1, 2, 3])\n",
    "a_data_type = a.dtype\n",
    "a_data_type"
   ]
  },
  {
   "cell_type": "code",
   "execution_count": 148,
   "metadata": {},
   "outputs": [
    {
     "data": {
      "text/plain": [
       "array([[9, 9, 6, 8],\n",
       "       [3, 1, 9, 4],\n",
       "       [8, 9, 6, 6]], dtype=int32)"
      ]
     },
     "execution_count": 148,
     "metadata": {},
     "output_type": "execute_result"
    }
   ],
   "source": [
    "# An array with 4-byte elements\n",
    "# Create a 2-dimensional array of size 3 x 4 named x, composed of 4-byte integer elements:\n",
    "x = np.random.randint(1,10,size=(3,4), dtype=\"i4\")\n",
    "x"
   ]
  },
  {
   "cell_type": "code",
   "execution_count": 153,
   "metadata": {},
   "outputs": [
    {
     "data": {
      "text/plain": [
       "4.625"
      ]
     },
     "execution_count": 153,
     "metadata": {},
     "output_type": "execute_result"
    }
   ],
   "source": [
    "# Find Numpy Non-Zero Mean\n",
    "# Find the average of non-zero elements of \n",
    "a = np.array([1, 0, 2, 0, 3, 0, 0, 5, 6, 7, 5, 0, 8])\n",
    "\n",
    "a[a != 0].mean()"
   ]
  },
  {
   "cell_type": "code",
   "execution_count": 159,
   "metadata": {},
   "outputs": [
    {
     "name": "stdout",
     "output_type": "stream",
     "text": [
      "[[[10 25 70]\n",
      "  [30 45 55]\n",
      "  [20 45  7]]\n",
      "\n",
      " [[50 65  8]\n",
      "  [70 85 10]\n",
      "  [11 22 33]]]\n"
     ]
    },
    {
     "data": {
      "text/plain": [
       "array([[30, 45, 55],\n",
       "       [70, 85, 10]])"
      ]
     },
     "execution_count": 159,
     "metadata": {},
     "output_type": "execute_result"
    }
   ],
   "source": [
    "# Numpy Array Middle Rows\n",
    "# Code where indicated by #? to access the middle rows of a_3d:\n",
    "\n",
    "a_3d = np.array(\n",
    "    [[[10, 25, 70], [30, 45, 55], [20, 45, 7]],\n",
    "    [[50, 65, 8], [70, 85, 10], [11, 22, 33]]]\n",
    ")\n",
    "print(a_3d)\n",
    "a_3d[:,1]\n"
   ]
  },
  {
   "cell_type": "code",
   "execution_count": null,
   "metadata": {},
   "outputs": [],
   "source": []
  }
 ],
 "metadata": {
  "kernelspec": {
   "display_name": "Python 3.8.10 64-bit",
   "language": "python",
   "name": "python3"
  },
  "language_info": {
   "codemirror_mode": {
    "name": "ipython",
    "version": 3
   },
   "file_extension": ".py",
   "mimetype": "text/x-python",
   "name": "python",
   "nbconvert_exporter": "python",
   "pygments_lexer": "ipython3",
   "version": "3.8.10"
  },
  "orig_nbformat": 4,
  "vscode": {
   "interpreter": {
    "hash": "916dbcbb3f70747c44a77c7bcd40155683ae19c65e1c03b4aa3499c5328201f1"
   }
  }
 },
 "nbformat": 4,
 "nbformat_minor": 2
}
